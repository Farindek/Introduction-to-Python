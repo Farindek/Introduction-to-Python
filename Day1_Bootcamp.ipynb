{
  "nbformat": 4,
  "nbformat_minor": 0,
  "metadata": {
    "colab": {
      "name": "Day1_Bootcamp.ipynb",
      "provenance": [],
      "authorship_tag": "ABX9TyPWeiOZvhyreS3D5VixeaKg",
      "include_colab_link": true
    },
    "kernelspec": {
      "name": "python3",
      "display_name": "Python 3"
    },
    "language_info": {
      "name": "python"
    }
  },
  "cells": [
    {
      "cell_type": "markdown",
      "metadata": {
        "id": "view-in-github",
        "colab_type": "text"
      },
      "source": [
        "<a href=\"https://colab.research.google.com/github/Farindek/Introduction-to-Python/blob/main/Day1_Bootcamp.ipynb\" target=\"_parent\"><img src=\"https://colab.research.google.com/assets/colab-badge.svg\" alt=\"Open In Colab\"/></a>"
      ]
    },
    {
      "cell_type": "code",
      "metadata": {
        "colab": {
          "base_uri": "https://localhost:8080/"
        },
        "id": "5IHB_ADoderU",
        "outputId": "826e0c4e-c6d6-496c-e8e5-3725fb136564"
      },
      "source": [
        "print (\"hello Kemi\")"
      ],
      "execution_count": null,
      "outputs": [
        {
          "output_type": "stream",
          "name": "stdout",
          "text": [
            "hello Kemi\n"
          ]
        }
      ]
    },
    {
      "cell_type": "markdown",
      "metadata": {
        "id": "j2XZKdY1fJLu"
      },
      "source": [
        "# Welcome to Essex\n",
        "## Enjoy the class\n",
        "#### Hi Colchester\n",
        "Be good to me\n",
        "\n",
        "|Schools  |      Semester   |  Amount |\n",
        "|----------|:-------------:|------:|\n",
        "|Essex Uni|  Autumn | $£1600 |\n",
        "|London Uni|    Spring   |   $£12 |\n",
        "|Colchester Uni| Winter |    $£1 |\n",
        "\n",
        "\n",
        "    "
      ]
    },
    {
      "cell_type": "code",
      "metadata": {
        "id": "B1KDVXCjfCnu"
      },
      "source": [
        ""
      ],
      "execution_count": null,
      "outputs": []
    },
    {
      "cell_type": "code",
      "metadata": {
        "colab": {
          "base_uri": "https://localhost:8080/"
        },
        "id": "0EdJbp2sm9ZC",
        "outputId": "0aae2de3-5300-4dab-9cc6-305d55f002bb"
      },
      "source": [
        "a = 6\n",
        "b = 5\n",
        "c = a+b\n",
        "print(c)"
      ],
      "execution_count": null,
      "outputs": [
        {
          "output_type": "stream",
          "name": "stdout",
          "text": [
            "11\n"
          ]
        }
      ]
    },
    {
      "cell_type": "code",
      "metadata": {
        "colab": {
          "base_uri": "https://localhost:8080/"
        },
        "id": "PNotMaQtnUyF",
        "outputId": "94cfae4f-e401-4835-8d5d-738b83a316c4"
      },
      "source": [
        "d=a-b\n",
        "print(d)"
      ],
      "execution_count": null,
      "outputs": [
        {
          "output_type": "stream",
          "name": "stdout",
          "text": [
            "1\n"
          ]
        }
      ]
    },
    {
      "cell_type": "code",
      "metadata": {
        "colab": {
          "base_uri": "https://localhost:8080/"
        },
        "id": "f_LByr-WngeN",
        "outputId": "15947f24-0147-46b3-dbeb-26b672db7882"
      },
      "source": [
        "e=a*b\n",
        "print(e)"
      ],
      "execution_count": null,
      "outputs": [
        {
          "output_type": "stream",
          "name": "stdout",
          "text": [
            "30\n"
          ]
        }
      ]
    },
    {
      "cell_type": "code",
      "metadata": {
        "colab": {
          "base_uri": "https://localhost:8080/"
        },
        "id": "piwi4G0MnnlL",
        "outputId": "ce890941-66cb-4abe-ea87-c9ace268bd9c"
      },
      "source": [
        "f=a/b\n",
        "print(f)"
      ],
      "execution_count": null,
      "outputs": [
        {
          "output_type": "stream",
          "name": "stdout",
          "text": [
            "1.2\n"
          ]
        }
      ]
    }
  ]
}
{
  "nbformat": 4,
  "nbformat_minor": 0,
  "metadata": {
    "colab": {
      "name": "Day1_Bootcamp.ipynb",
      "provenance": [],
      "authorship_tag": "ABX9TyMhHKWjHjY38kBlt6ixjn/+",
      "include_colab_link": true
    },
    "kernelspec": {
      "name": "python3",
      "display_name": "Python 3"
    },
    "language_info": {
      "name": "python"
    }
  },
  "cells": [
    {
      "cell_type": "markdown",
      "metadata": {
        "id": "view-in-github",
        "colab_type": "text"
      },
      "source": [
        "<a href=\"https://colab.research.google.com/github/Farindek/Introduction-to-Python/blob/main/Day1_Bootcamp.ipynb\" target=\"_parent\"><img src=\"https://colab.research.google.com/assets/colab-badge.svg\" alt=\"Open In Colab\"/></a>"
      ]
    },
    {
      "cell_type": "code",
      "metadata": {
        "colab": {
          "base_uri": "https://localhost:8080/"
        },
        "id": "5IHB_ADoderU",
        "outputId": "826e0c4e-c6d6-496c-e8e5-3725fb136564"
      },
      "source": [
        "print (\"hello Kemi\")"
      ],
      "execution_count": null,
      "outputs": [
        {
          "output_type": "stream",
          "name": "stdout",
          "text": [
            "hello Kemi\n"
          ]
        }
      ]
    },
    {
      "cell_type": "code",
      "metadata": {
        "id": "JPCB9veh0WC2"
      },
      "source": [
        ""
      ],
      "execution_count": null,
      "outputs": []
    },
    {
      "cell_type": "code",
      "metadata": {
        "id": "yLuY8sS50b7N"
      },
      "source": [
        ""
      ],
      "execution_count": null,
      "outputs": []
    },
    {
      "cell_type": "markdown",
      "metadata": {
        "id": "j2XZKdY1fJLu"
      },
      "source": [
        "# Welcome to Essex\n",
        "## Enjoy the class\n",
        "#### Hi Colchester\n",
        "Be good to me\n",
        "\n",
        "|Schools  |      Semester   |  Amount |\n",
        "|----------|:-------------:|------:|\n",
        "|Essex Uni|  Autumn | $£1600 |\n",
        "|London Uni|    Spring   |   $£12 |\n",
        "|Colchester Uni| Winter |    $£1 |\n",
        "\n",
        "\n",
        "    "
      ]
    },
    {
      "cell_type": "code",
      "metadata": {
        "colab": {
          "base_uri": "https://localhost:8080/"
        },
        "id": "0EdJbp2sm9ZC",
        "outputId": "0aae2de3-5300-4dab-9cc6-305d55f002bb"
      },
      "source": [
        "a = 6\n",
        "b = 5\n",
        "c = a+b\n",
        "print(c)"
      ],
      "execution_count": null,
      "outputs": [
        {
          "output_type": "stream",
          "name": "stdout",
          "text": [
            "11\n"
          ]
        }
      ]
    },
    {
      "cell_type": "code",
      "metadata": {
        "colab": {
          "base_uri": "https://localhost:8080/"
        },
        "id": "PNotMaQtnUyF",
        "outputId": "94cfae4f-e401-4835-8d5d-738b83a316c4"
      },
      "source": [
        "d=a-b\n",
        "print(d)"
      ],
      "execution_count": null,
      "outputs": [
        {
          "output_type": "stream",
          "name": "stdout",
          "text": [
            "1\n"
          ]
        }
      ]
    },
    {
      "cell_type": "code",
      "metadata": {
        "colab": {
          "base_uri": "https://localhost:8080/"
        },
        "id": "f_LByr-WngeN",
        "outputId": "15947f24-0147-46b3-dbeb-26b672db7882"
      },
      "source": [
        "e=a*b\n",
        "print(e)"
      ],
      "execution_count": null,
      "outputs": [
        {
          "output_type": "stream",
          "name": "stdout",
          "text": [
            "30\n"
          ]
        }
      ]
    },
    {
      "cell_type": "code",
      "metadata": {
        "colab": {
          "base_uri": "https://localhost:8080/"
        },
        "id": "piwi4G0MnnlL",
        "outputId": "ce890941-66cb-4abe-ea87-c9ace268bd9c"
      },
      "source": [
        "f=a/b\n",
        "print(f)"
      ],
      "execution_count": null,
      "outputs": [
        {
          "output_type": "stream",
          "name": "stdout",
          "text": [
            "1.2\n"
          ]
        }
      ]
    },
    {
      "cell_type": "code",
      "metadata": {
        "colab": {
          "base_uri": "https://localhost:8080/"
        },
        "id": "iYTRlKZe0eEE",
        "outputId": "aec80f6c-f4b0-4caf-bf22-1f6642f84b86"
      },
      "source": [
        "b=18\n",
        "h=6\n",
        "Area=0.5*b*h\n",
        "print(Area)"
      ],
      "execution_count": 1,
      "outputs": [
        {
          "output_type": "stream",
          "name": "stdout",
          "text": [
            "54.0\n"
          ]
        }
      ]
    },
    {
      "cell_type": "code",
      "metadata": {
        "colab": {
          "base_uri": "https://localhost:8080/"
        },
        "id": "9J0bSzkF1AcS",
        "outputId": "4590fce4-1ab9-4279-9faa-a8291a0a8a84"
      },
      "source": [
        "b = input('Enter breadth of triangle:')\n",
        "h = input('Enter heigth of triangle:')\n",
        "\n",
        "Area = 0.5*float(b)*float(h)\n",
        "\n",
        "print('the Area of Triangle {0}, {1} is {2}'.format(b,h,Area))"
      ],
      "execution_count": 2,
      "outputs": [
        {
          "output_type": "stream",
          "name": "stdout",
          "text": [
            "Enter breadth of triangle:18\n",
            "Enter heigth of triangle:6\n",
            "the Area of Triangle 18, 6 is 54.0\n"
          ]
        }
      ]
    },
    {
      "cell_type": "code",
      "metadata": {
        "colab": {
          "base_uri": "https://localhost:8080/"
        },
        "id": "vl03bEow2W2N",
        "outputId": "9464147b-3781-45ce-9667-8195323be913"
      },
      "source": [
        "#Area of circle\n",
        "Pi = 3.14\n",
        "r = input('Enter radius of circle')\n",
        "Area = Pi*float(r)**2\n",
        "print('Area of Circle {0} is {1}'.format(r,Area))\n"
      ],
      "execution_count": 4,
      "outputs": [
        {
          "output_type": "stream",
          "name": "stdout",
          "text": [
            "Enter radius of circle6\n",
            "Area of Circle 6 is 113.04\n"
          ]
        }
      ]
    },
    {
      "cell_type": "code",
      "metadata": {
        "colab": {
          "base_uri": "https://localhost:8080/"
        },
        "id": "oBQli7BN30g4",
        "outputId": "f190d8d3-3006-44af-c6a2-300e00e12c9c"
      },
      "source": [
        "#Circumference of circle\n",
        "r = input('Enter radius of circle')\n",
        "Circum = 2*Pi*float(r)\n",
        "print('Circum of circle with radius {0} is {1}'.format(r, Circum))"
      ],
      "execution_count": 6,
      "outputs": [
        {
          "output_type": "stream",
          "name": "stdout",
          "text": [
            "Enter radius of circle6\n",
            "Circum of circle with radius 6 is 37.68\n"
          ]
        }
      ]
    },
    {
      "cell_type": "code",
      "metadata": {
        "colab": {
          "base_uri": "https://localhost:8080/"
        },
        "id": "aC-zX_gy4of9",
        "outputId": "ff6bce26-5eeb-4f69-cf15-e363901e983b"
      },
      "source": [
        "#Simple Interest\n",
        "P = input('Enter the Principal Interest')\n",
        "R = input('Enter the Rate')\n",
        "T = input('Enter the Time')\n",
        "\n",
        "SimpleInterest = float(P)*float(R)*float(T)\n",
        "print('The Simple Interest with {0}, {1}, {2} is {3}'.format(P, R, T, SimpleInterest))\n"
      ],
      "execution_count": 7,
      "outputs": [
        {
          "output_type": "stream",
          "name": "stdout",
          "text": [
            "Enter the Principal Interest10\n",
            "Enter the Rate0.4\n",
            "Enter the Time60\n",
            "The Simple Interest with 10, 0.4, 60 is 240.0\n"
          ]
        }
      ]
    },
    {
      "cell_type": "code",
      "metadata": {
        "colab": {
          "base_uri": "https://localhost:8080/"
        },
        "id": "gDWGZJmR6KL1",
        "outputId": "19c24307-ae5d-41df-e033-1d3f2d4e40da"
      },
      "source": [
        "#Volume of Cylinder\n",
        "r = input('Enter the radius of cylinder')\n",
        "h = input('Enter the height of cylinder')\n",
        "\n",
        "Volume = Pi*float(r)**2*float(h)\n",
        "print('The Volume of Cylinder with {0}, {1} is {2}'.format(r, h, Volume))"
      ],
      "execution_count": 10,
      "outputs": [
        {
          "output_type": "stream",
          "name": "stdout",
          "text": [
            "Enter the radius of cylinder4\n",
            "Enter the height of cylinder6\n",
            "The Volume of Cylinder with 4, 6 is 301.44\n"
          ]
        }
      ]
    },
    {
      "cell_type": "code",
      "metadata": {
        "id": "SYtPXYxLAxsa",
        "outputId": "c6be7a61-05c7-4bad-a02a-3deef21d98f7",
        "colab": {
          "base_uri": "https://localhost:8080/",
          "height": 419
        }
      },
      "source": [
        "import pandas as pd\n",
        "data = pd.read_csv('/SuicidesIndia.csv')\n",
        "data"
      ],
      "execution_count": 12,
      "outputs": [
        {
          "output_type": "execute_result",
          "data": {
            "text/html": [
              "<div>\n",
              "<style scoped>\n",
              "    .dataframe tbody tr th:only-of-type {\n",
              "        vertical-align: middle;\n",
              "    }\n",
              "\n",
              "    .dataframe tbody tr th {\n",
              "        vertical-align: top;\n",
              "    }\n",
              "\n",
              "    .dataframe thead th {\n",
              "        text-align: right;\n",
              "    }\n",
              "</style>\n",
              "<table border=\"1\" class=\"dataframe\">\n",
              "  <thead>\n",
              "    <tr style=\"text-align: right;\">\n",
              "      <th></th>\n",
              "      <th>State</th>\n",
              "      <th>Year</th>\n",
              "      <th>Type_code</th>\n",
              "      <th>Type</th>\n",
              "      <th>Gender</th>\n",
              "      <th>Age_group</th>\n",
              "      <th>Total</th>\n",
              "    </tr>\n",
              "  </thead>\n",
              "  <tbody>\n",
              "    <tr>\n",
              "      <th>0</th>\n",
              "      <td>A &amp; N Islands</td>\n",
              "      <td>2001</td>\n",
              "      <td>Causes</td>\n",
              "      <td>Illness (Aids/STD)</td>\n",
              "      <td>Female</td>\n",
              "      <td>0-14</td>\n",
              "      <td>0</td>\n",
              "    </tr>\n",
              "    <tr>\n",
              "      <th>1</th>\n",
              "      <td>A &amp; N Islands</td>\n",
              "      <td>2001</td>\n",
              "      <td>Causes</td>\n",
              "      <td>Bankruptcy or Sudden change in Economic</td>\n",
              "      <td>Female</td>\n",
              "      <td>0-14</td>\n",
              "      <td>0</td>\n",
              "    </tr>\n",
              "    <tr>\n",
              "      <th>2</th>\n",
              "      <td>A &amp; N Islands</td>\n",
              "      <td>2001</td>\n",
              "      <td>Causes</td>\n",
              "      <td>Cancellation/Non-Settlement of Marriage</td>\n",
              "      <td>Female</td>\n",
              "      <td>0-14</td>\n",
              "      <td>0</td>\n",
              "    </tr>\n",
              "    <tr>\n",
              "      <th>3</th>\n",
              "      <td>A &amp; N Islands</td>\n",
              "      <td>2001</td>\n",
              "      <td>Causes</td>\n",
              "      <td>Physical Abuse (Rape/Incest Etc.)</td>\n",
              "      <td>Female</td>\n",
              "      <td>0-14</td>\n",
              "      <td>0</td>\n",
              "    </tr>\n",
              "    <tr>\n",
              "      <th>4</th>\n",
              "      <td>A &amp; N Islands</td>\n",
              "      <td>2001</td>\n",
              "      <td>Causes</td>\n",
              "      <td>Dowry Dispute</td>\n",
              "      <td>Female</td>\n",
              "      <td>0-14</td>\n",
              "      <td>0</td>\n",
              "    </tr>\n",
              "    <tr>\n",
              "      <th>...</th>\n",
              "      <td>...</td>\n",
              "      <td>...</td>\n",
              "      <td>...</td>\n",
              "      <td>...</td>\n",
              "      <td>...</td>\n",
              "      <td>...</td>\n",
              "      <td>...</td>\n",
              "    </tr>\n",
              "    <tr>\n",
              "      <th>237514</th>\n",
              "      <td>West Bengal</td>\n",
              "      <td>2012</td>\n",
              "      <td>Social_Status</td>\n",
              "      <td>Seperated</td>\n",
              "      <td>Male</td>\n",
              "      <td>0-100+</td>\n",
              "      <td>149</td>\n",
              "    </tr>\n",
              "    <tr>\n",
              "      <th>237515</th>\n",
              "      <td>West Bengal</td>\n",
              "      <td>2012</td>\n",
              "      <td>Social_Status</td>\n",
              "      <td>Widowed/Widower</td>\n",
              "      <td>Male</td>\n",
              "      <td>0-100+</td>\n",
              "      <td>233</td>\n",
              "    </tr>\n",
              "    <tr>\n",
              "      <th>237516</th>\n",
              "      <td>West Bengal</td>\n",
              "      <td>2012</td>\n",
              "      <td>Social_Status</td>\n",
              "      <td>Married</td>\n",
              "      <td>Male</td>\n",
              "      <td>0-100+</td>\n",
              "      <td>5451</td>\n",
              "    </tr>\n",
              "    <tr>\n",
              "      <th>237517</th>\n",
              "      <td>West Bengal</td>\n",
              "      <td>2012</td>\n",
              "      <td>Social_Status</td>\n",
              "      <td>Divorcee</td>\n",
              "      <td>Male</td>\n",
              "      <td>0-100+</td>\n",
              "      <td>189</td>\n",
              "    </tr>\n",
              "    <tr>\n",
              "      <th>237518</th>\n",
              "      <td>West Bengal</td>\n",
              "      <td>2012</td>\n",
              "      <td>Social_Status</td>\n",
              "      <td>Never Married</td>\n",
              "      <td>Male</td>\n",
              "      <td>0-100+</td>\n",
              "      <td>2658</td>\n",
              "    </tr>\n",
              "  </tbody>\n",
              "</table>\n",
              "<p>237519 rows × 7 columns</p>\n",
              "</div>"
            ],
            "text/plain": [
              "                State  Year      Type_code  ...  Gender Age_group Total\n",
              "0       A & N Islands  2001         Causes  ...  Female      0-14     0\n",
              "1       A & N Islands  2001         Causes  ...  Female      0-14     0\n",
              "2       A & N Islands  2001         Causes  ...  Female      0-14     0\n",
              "3       A & N Islands  2001         Causes  ...  Female      0-14     0\n",
              "4       A & N Islands  2001         Causes  ...  Female      0-14     0\n",
              "...               ...   ...            ...  ...     ...       ...   ...\n",
              "237514    West Bengal  2012  Social_Status  ...    Male    0-100+   149\n",
              "237515    West Bengal  2012  Social_Status  ...    Male    0-100+   233\n",
              "237516    West Bengal  2012  Social_Status  ...    Male    0-100+  5451\n",
              "237517    West Bengal  2012  Social_Status  ...    Male    0-100+   189\n",
              "237518    West Bengal  2012  Social_Status  ...    Male    0-100+  2658\n",
              "\n",
              "[237519 rows x 7 columns]"
            ]
          },
          "metadata": {},
          "execution_count": 12
        }
      ]
    },
    {
      "cell_type": "code",
      "metadata": {
        "id": "xYyKf8uLA35D"
      },
      "source": [
        ""
      ],
      "execution_count": null,
      "outputs": []
    }
  ]
}